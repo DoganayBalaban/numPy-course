{
 "cells": [
  {
   "cell_type": "code",
   "execution_count": 1,
   "id": "initial_id",
   "metadata": {
    "collapsed": true,
    "ExecuteTime": {
     "end_time": "2024-03-13T13:29:51.238595Z",
     "start_time": "2024-03-13T13:29:51.172745Z"
    }
   },
   "outputs": [],
   "source": [
    "import numpy as np"
   ]
  },
  {
   "cell_type": "markdown",
   "source": [
    "Arange ile Vektör Oluşturma"
   ],
   "metadata": {
    "collapsed": false
   },
   "id": "324305e5c4703c7d"
  },
  {
   "cell_type": "code",
   "outputs": [
    {
     "data": {
      "text/plain": "range(0, 100000000000)"
     },
     "execution_count": 2,
     "metadata": {},
     "output_type": "execute_result"
    }
   ],
   "source": [
    "liste = [1, 2, 3, 4, 5, 6]\n",
    "range(100000000000)"
   ],
   "metadata": {
    "collapsed": false,
    "ExecuteTime": {
     "end_time": "2024-03-13T13:30:36.345970Z",
     "start_time": "2024-03-13T13:30:36.339569Z"
    }
   },
   "id": "bf878e0f84ef8de5",
   "execution_count": 2
  },
  {
   "cell_type": "code",
   "outputs": [],
   "source": [
    "milyon = np.arange(1000000000)"
   ],
   "metadata": {
    "collapsed": false,
    "ExecuteTime": {
     "end_time": "2024-03-13T13:30:56.569327Z",
     "start_time": "2024-03-13T13:30:55.064055Z"
    }
   },
   "id": "7955578bc5ef104e",
   "execution_count": 3
  },
  {
   "cell_type": "code",
   "outputs": [
    {
     "name": "stdout",
     "output_type": "stream",
     "text": [
      "[        0         1         2 ... 999999997 999999998 999999999]\n"
     ]
    }
   ],
   "source": [
    "print(milyon)"
   ],
   "metadata": {
    "collapsed": false,
    "ExecuteTime": {
     "end_time": "2024-03-13T13:31:55.111047Z",
     "start_time": "2024-03-13T13:31:55.106048Z"
    }
   },
   "id": "6bce94f1a184d470",
   "execution_count": 6
  },
  {
   "cell_type": "code",
   "outputs": [
    {
     "name": "stdout",
     "output_type": "stream",
     "text": [
      "[0 1 2 3 4 5 6 7 8 9]\n"
     ]
    }
   ],
   "source": [
    "print(np.arange(10))"
   ],
   "metadata": {
    "collapsed": false,
    "ExecuteTime": {
     "end_time": "2024-03-13T13:31:45.893537Z",
     "start_time": "2024-03-13T13:31:45.888076Z"
    }
   },
   "id": "d3f9aa021b174cb0",
   "execution_count": 5
  },
  {
   "cell_type": "code",
   "outputs": [
    {
     "name": "stdout",
     "output_type": "stream",
     "text": [
      "[5 7 9]\n"
     ]
    }
   ],
   "source": [
    "print(np.arange(5,10,2))"
   ],
   "metadata": {
    "collapsed": false,
    "ExecuteTime": {
     "end_time": "2024-03-13T13:32:16.550622Z",
     "start_time": "2024-03-13T13:32:16.546616Z"
    }
   },
   "id": "a6972f7b2aae6adf",
   "execution_count": 7
  },
  {
   "cell_type": "markdown",
   "source": [
    "linspace() ile vektör oluşturma"
   ],
   "metadata": {
    "collapsed": false
   },
   "id": "6b15f5fef78e4acd"
  },
  {
   "cell_type": "code",
   "outputs": [
    {
     "data": {
      "text/plain": "array([ 0.        ,  2.22222222,  4.44444444,  6.66666667,  8.88888889,\n       11.11111111, 13.33333333, 15.55555556, 17.77777778, 20.        ])"
     },
     "execution_count": 8,
     "metadata": {},
     "output_type": "execute_result"
    }
   ],
   "source": [
    "# 0 la 20 arasını 10 eşit parçaya böl\n",
    "np.linspace(0,20,10)"
   ],
   "metadata": {
    "collapsed": false,
    "ExecuteTime": {
     "end_time": "2024-03-13T13:33:13.333286Z",
     "start_time": "2024-03-13T13:33:13.326292Z"
    }
   },
   "id": "b6101cb7bc5ee151",
   "execution_count": 8
  },
  {
   "cell_type": "code",
   "outputs": [
    {
     "name": "stdout",
     "output_type": "stream",
     "text": [
      "[ 5.          6.42857143  7.85714286  9.28571429 10.71428571 12.14285714\n",
      " 13.57142857 15.         16.42857143 17.85714286 19.28571429 20.71428571\n",
      " 22.14285714 23.57142857 25.        ]\n"
     ]
    }
   ],
   "source": [
    "bol = np.linspace(5,25,15)\n",
    "print(bol)"
   ],
   "metadata": {
    "collapsed": false,
    "ExecuteTime": {
     "end_time": "2024-03-13T13:35:38.983369Z",
     "start_time": "2024-03-13T13:35:38.978959Z"
    }
   },
   "id": "216cd8e564e55f2f",
   "execution_count": 9
  },
  {
   "cell_type": "code",
   "outputs": [
    {
     "name": "stdout",
     "output_type": "stream",
     "text": [
      "1.4285714285714288\n",
      "1.428571428571427\n"
     ]
    }
   ],
   "source": [
    "print(bol[1]-bol[0] )\n",
    "print(bol[3]-bol[2])"
   ],
   "metadata": {
    "collapsed": false,
    "ExecuteTime": {
     "end_time": "2024-03-13T13:36:51.177404Z",
     "start_time": "2024-03-13T13:36:51.174226Z"
    }
   },
   "id": "d50b798c433dc5e7",
   "execution_count": 11
  },
  {
   "cell_type": "markdown",
   "source": [
    "Yeniden Boyutlandırma reshape()"
   ],
   "metadata": {
    "collapsed": false
   },
   "id": "ec466c6577cc743e"
  },
  {
   "cell_type": "code",
   "outputs": [],
   "source": [
    "m1 = np.array([[1,2,3,4],[5,6,7,8],[9,10,11,12]])"
   ],
   "metadata": {
    "collapsed": false,
    "ExecuteTime": {
     "end_time": "2024-03-13T13:38:09.408067Z",
     "start_time": "2024-03-13T13:38:09.403557Z"
    }
   },
   "id": "ef8eac3f30124719",
   "execution_count": 12
  },
  {
   "cell_type": "code",
   "outputs": [
    {
     "name": "stdout",
     "output_type": "stream",
     "text": [
      "[[ 1  2  3  4]\n",
      " [ 5  6  7  8]\n",
      " [ 9 10 11 12]]\n"
     ]
    }
   ],
   "source": [
    "print(m1)"
   ],
   "metadata": {
    "collapsed": false,
    "ExecuteTime": {
     "end_time": "2024-03-13T13:38:20.615674Z",
     "start_time": "2024-03-13T13:38:20.611764Z"
    }
   },
   "id": "c815b459a1d75d25",
   "execution_count": 13
  },
  {
   "cell_type": "code",
   "outputs": [
    {
     "data": {
      "text/plain": "(3, 4)"
     },
     "execution_count": 14,
     "metadata": {},
     "output_type": "execute_result"
    }
   ],
   "source": [
    "m1.shape"
   ],
   "metadata": {
    "collapsed": false,
    "ExecuteTime": {
     "end_time": "2024-03-13T13:38:33.868198Z",
     "start_time": "2024-03-13T13:38:33.863256Z"
    }
   },
   "id": "2bd583c400dd8673",
   "execution_count": 14
  },
  {
   "cell_type": "code",
   "outputs": [
    {
     "data": {
      "text/plain": "array([[ 1,  2,  3],\n       [ 4,  5,  6],\n       [ 7,  8,  9],\n       [10, 11, 12]])"
     },
     "execution_count": 15,
     "metadata": {},
     "output_type": "execute_result"
    }
   ],
   "source": [
    "m1.reshape(4,3)"
   ],
   "metadata": {
    "collapsed": false,
    "ExecuteTime": {
     "end_time": "2024-03-13T13:38:45.859041Z",
     "start_time": "2024-03-13T13:38:45.853754Z"
    }
   },
   "id": "3fd3b513223c93f",
   "execution_count": 15
  },
  {
   "cell_type": "code",
   "outputs": [
    {
     "data": {
      "text/plain": "array([[ 1,  2],\n       [ 3,  4],\n       [ 5,  6],\n       [ 7,  8],\n       [ 9, 10],\n       [11, 12]])"
     },
     "execution_count": 16,
     "metadata": {},
     "output_type": "execute_result"
    }
   ],
   "source": [
    "m1.reshape(6,2)"
   ],
   "metadata": {
    "collapsed": false,
    "ExecuteTime": {
     "end_time": "2024-03-13T13:39:08.858404Z",
     "start_time": "2024-03-13T13:39:08.853359Z"
    }
   },
   "id": "c0c3671f4d93c45a",
   "execution_count": 16
  },
  {
   "cell_type": "code",
   "outputs": [
    {
     "data": {
      "text/plain": "array([ 1,  2,  3,  4,  5,  6,  7,  8,  9, 10, 11, 12])"
     },
     "execution_count": 17,
     "metadata": {},
     "output_type": "execute_result"
    }
   ],
   "source": [
    "m1.reshape(12)"
   ],
   "metadata": {
    "collapsed": false,
    "ExecuteTime": {
     "end_time": "2024-03-13T13:39:26.377963Z",
     "start_time": "2024-03-13T13:39:26.372949Z"
    }
   },
   "id": "acd3cfcbbb43821d",
   "execution_count": 17
  },
  {
   "cell_type": "code",
   "outputs": [
    {
     "data": {
      "text/plain": "array([[ 0.        ,  0.68965517,  1.37931034,  2.06896552,  2.75862069],\n       [ 3.44827586,  4.13793103,  4.82758621,  5.51724138,  6.20689655],\n       [ 6.89655172,  7.5862069 ,  8.27586207,  8.96551724,  9.65517241],\n       [10.34482759, 11.03448276, 11.72413793, 12.4137931 , 13.10344828],\n       [13.79310345, 14.48275862, 15.17241379, 15.86206897, 16.55172414],\n       [17.24137931, 17.93103448, 18.62068966, 19.31034483, 20.        ]])"
     },
     "execution_count": 18,
     "metadata": {},
     "output_type": "execute_result"
    }
   ],
   "source": [
    "np.linspace(0,20,30).reshape(6,5)"
   ],
   "metadata": {
    "collapsed": false,
    "ExecuteTime": {
     "end_time": "2024-03-13T13:41:04.978525Z",
     "start_time": "2024-03-13T13:41:04.972534Z"
    }
   },
   "id": "1c949efe323a3b02",
   "execution_count": 18
  }
 ],
 "metadata": {
  "kernelspec": {
   "display_name": "Python 3",
   "language": "python",
   "name": "python3"
  },
  "language_info": {
   "codemirror_mode": {
    "name": "ipython",
    "version": 2
   },
   "file_extension": ".py",
   "mimetype": "text/x-python",
   "name": "python",
   "nbconvert_exporter": "python",
   "pygments_lexer": "ipython2",
   "version": "2.7.6"
  }
 },
 "nbformat": 4,
 "nbformat_minor": 5
}
