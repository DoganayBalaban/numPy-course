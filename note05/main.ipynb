{
 "cells": [
  {
   "cell_type": "code",
   "execution_count": 2,
   "id": "initial_id",
   "metadata": {
    "collapsed": true,
    "ExecuteTime": {
     "end_time": "2024-03-13T14:01:28.560948Z",
     "start_time": "2024-03-13T14:01:28.468224Z"
    }
   },
   "outputs": [],
   "source": [
    "import numpy as np"
   ]
  },
  {
   "cell_type": "markdown",
   "source": [
    "Mantıksal operatörler ve filtreleme"
   ],
   "metadata": {
    "collapsed": false
   },
   "id": "9742f6df4e4e5fa5"
  },
  {
   "cell_type": "code",
   "outputs": [],
   "source": [
    "matris = np.random.randint(0,10,(5,5))"
   ],
   "metadata": {
    "collapsed": false,
    "ExecuteTime": {
     "end_time": "2024-03-13T14:01:30.029254Z",
     "start_time": "2024-03-13T14:01:30.025287Z"
    }
   },
   "id": "4d9d946a086c059f",
   "execution_count": 3
  },
  {
   "cell_type": "code",
   "outputs": [
    {
     "data": {
      "text/plain": "array([[6, 7, 1, 5, 1],\n       [8, 1, 3, 2, 0],\n       [6, 8, 6, 6, 4],\n       [7, 6, 4, 3, 5],\n       [8, 3, 6, 9, 8]])"
     },
     "execution_count": 4,
     "metadata": {},
     "output_type": "execute_result"
    }
   ],
   "source": [
    "matris"
   ],
   "metadata": {
    "collapsed": false,
    "ExecuteTime": {
     "end_time": "2024-03-13T14:01:35.677975Z",
     "start_time": "2024-03-13T14:01:35.669805Z"
    }
   },
   "id": "e9423378dc7b970a",
   "execution_count": 4
  },
  {
   "cell_type": "code",
   "outputs": [
    {
     "data": {
      "text/plain": "array([[ True,  True, False, False, False],\n       [ True, False, False, False, False],\n       [ True,  True,  True,  True, False],\n       [ True,  True, False, False, False],\n       [ True, False,  True,  True,  True]])"
     },
     "execution_count": 5,
     "metadata": {},
     "output_type": "execute_result"
    }
   ],
   "source": [
    "matris >5"
   ],
   "metadata": {
    "collapsed": false,
    "ExecuteTime": {
     "end_time": "2024-03-13T14:01:51.325922Z",
     "start_time": "2024-03-13T14:01:51.319803Z"
    }
   },
   "id": "540c28b4a5822c24",
   "execution_count": 5
  },
  {
   "cell_type": "code",
   "outputs": [
    {
     "data": {
      "text/plain": "array([6, 7, 8, 6, 8, 6, 6, 7, 6, 8, 6, 9, 8])"
     },
     "execution_count": 6,
     "metadata": {},
     "output_type": "execute_result"
    }
   ],
   "source": [
    "matris[matris>5]"
   ],
   "metadata": {
    "collapsed": false,
    "ExecuteTime": {
     "end_time": "2024-03-13T14:02:20.096984Z",
     "start_time": "2024-03-13T14:02:20.090797Z"
    }
   },
   "id": "37b6c2cb009a1b3b",
   "execution_count": 6
  },
  {
   "cell_type": "code",
   "outputs": [
    {
     "data": {
      "text/plain": "array([1, 1, 1, 3, 2, 0, 4, 4, 3, 3])"
     },
     "execution_count": 7,
     "metadata": {},
     "output_type": "execute_result"
    }
   ],
   "source": [
    "matris[matris<5]"
   ],
   "metadata": {
    "collapsed": false,
    "ExecuteTime": {
     "end_time": "2024-03-13T14:02:38.542184Z",
     "start_time": "2024-03-13T14:02:38.535996Z"
    }
   },
   "id": "94945397c2607577",
   "execution_count": 7
  },
  {
   "cell_type": "code",
   "outputs": [
    {
     "data": {
      "text/plain": "array([5, 5])"
     },
     "execution_count": 8,
     "metadata": {},
     "output_type": "execute_result"
    }
   ],
   "source": [
    "matris[matris==5]"
   ],
   "metadata": {
    "collapsed": false,
    "ExecuteTime": {
     "end_time": "2024-03-13T14:03:00.267530Z",
     "start_time": "2024-03-13T14:03:00.263657Z"
    }
   },
   "id": "bd1a0735e08af8de",
   "execution_count": 8
  },
  {
   "cell_type": "code",
   "outputs": [
    {
     "data": {
      "text/plain": "2"
     },
     "execution_count": 9,
     "metadata": {},
     "output_type": "execute_result"
    }
   ],
   "source": [
    "matris[matris == 5].size"
   ],
   "metadata": {
    "collapsed": false,
    "ExecuteTime": {
     "end_time": "2024-03-13T14:03:27.939016Z",
     "start_time": "2024-03-13T14:03:27.934680Z"
    }
   },
   "id": "5fa316a24a894271",
   "execution_count": 9
  },
  {
   "cell_type": "code",
   "outputs": [
    {
     "data": {
      "text/plain": "array([6, 1, 5, 1, 8, 1, 3, 2, 0, 6, 8, 6, 6, 4, 6, 4, 3, 5, 8, 3, 6, 9,\n       8])"
     },
     "execution_count": 10,
     "metadata": {},
     "output_type": "execute_result"
    }
   ],
   "source": [
    "matris[matris != 7]"
   ],
   "metadata": {
    "collapsed": false,
    "ExecuteTime": {
     "end_time": "2024-03-13T14:03:54.801786Z",
     "start_time": "2024-03-13T14:03:54.793131Z"
    }
   },
   "id": "d77a1c8fc9d66b96",
   "execution_count": 10
  },
  {
   "cell_type": "code",
   "outputs": [
    {
     "data": {
      "text/plain": "array([[ True, False, False, False, False],\n       [ True, False, False,  True,  True],\n       [ True,  True,  True,  True,  True],\n       [False,  True,  True, False, False],\n       [ True, False,  True, False,  True]])"
     },
     "execution_count": 12,
     "metadata": {},
     "output_type": "execute_result"
    }
   ],
   "source": [
    "matris%2 == 0"
   ],
   "metadata": {
    "collapsed": false,
    "ExecuteTime": {
     "end_time": "2024-03-13T14:04:26.269831Z",
     "start_time": "2024-03-13T14:04:26.263244Z"
    }
   },
   "id": "790d741d14cb45f5",
   "execution_count": 12
  },
  {
   "cell_type": "code",
   "outputs": [],
   "source": [
    "sifir = matris != 0\n",
    "cift = matris%2 == 0\n",
    "bir = matris == 1"
   ],
   "metadata": {
    "collapsed": false,
    "ExecuteTime": {
     "end_time": "2024-03-13T14:06:54.328197Z",
     "start_time": "2024-03-13T14:06:54.324684Z"
    }
   },
   "id": "6b7fa04eeae50ae5",
   "execution_count": 18
  },
  {
   "cell_type": "code",
   "outputs": [
    {
     "data": {
      "text/plain": "array([6, 8, 2, 6, 8, 6, 6, 4, 6, 4, 8, 6, 8])"
     },
     "execution_count": 16,
     "metadata": {},
     "output_type": "execute_result"
    }
   ],
   "source": [
    "matris [ cift & sifir]"
   ],
   "metadata": {
    "collapsed": false,
    "ExecuteTime": {
     "end_time": "2024-03-13T14:05:27.330202Z",
     "start_time": "2024-03-13T14:05:27.324432Z"
    }
   },
   "id": "285cdc8fb7321ae3",
   "execution_count": 16
  },
  {
   "cell_type": "code",
   "outputs": [
    {
     "data": {
      "text/plain": "array([6, 7, 1, 5, 1, 8, 1, 3, 2, 0, 6, 8, 6, 6, 4, 7, 6, 4, 3, 5, 8, 3,\n       6, 9, 8])"
     },
     "execution_count": 17,
     "metadata": {},
     "output_type": "execute_result"
    }
   ],
   "source": [
    "matris[cift | sifir]"
   ],
   "metadata": {
    "collapsed": false,
    "ExecuteTime": {
     "end_time": "2024-03-13T14:06:23.145988Z",
     "start_time": "2024-03-13T14:06:23.139532Z"
    }
   },
   "id": "bab9689ab8136b73",
   "execution_count": 17
  },
  {
   "cell_type": "code",
   "outputs": [
    {
     "data": {
      "text/plain": "array([6, 1, 1, 8, 1, 2, 6, 8, 6, 6, 4, 6, 4, 8, 6, 8])"
     },
     "execution_count": 20,
     "metadata": {},
     "output_type": "execute_result"
    }
   ],
   "source": [
    "matris[(cift & sifir) | bir]"
   ],
   "metadata": {
    "collapsed": false,
    "ExecuteTime": {
     "end_time": "2024-03-13T14:08:04.883784Z",
     "start_time": "2024-03-13T14:08:04.877538Z"
    }
   },
   "id": "b6db7314c95e5e34",
   "execution_count": 20
  },
  {
   "cell_type": "code",
   "outputs": [],
   "source": [
    "m2 = np.full((5,5),5)"
   ],
   "metadata": {
    "collapsed": false,
    "ExecuteTime": {
     "end_time": "2024-03-13T14:08:46.975140Z",
     "start_time": "2024-03-13T14:08:46.968761Z"
    }
   },
   "id": "7625ede3d767fd44",
   "execution_count": 21
  },
  {
   "cell_type": "code",
   "outputs": [
    {
     "data": {
      "text/plain": "array([[5, 5, 5, 5, 5],\n       [5, 5, 5, 5, 5],\n       [5, 5, 5, 5, 5],\n       [5, 5, 5, 5, 5],\n       [5, 5, 5, 5, 5]])"
     },
     "execution_count": 22,
     "metadata": {},
     "output_type": "execute_result"
    }
   ],
   "source": [
    "m2"
   ],
   "metadata": {
    "collapsed": false,
    "ExecuteTime": {
     "end_time": "2024-03-13T14:08:55.574145Z",
     "start_time": "2024-03-13T14:08:55.568214Z"
    }
   },
   "id": "9990d6ace74f693c",
   "execution_count": 22
  },
  {
   "cell_type": "code",
   "outputs": [
    {
     "data": {
      "text/plain": "array([5, 5, 5, 5, 5, 5, 5, 5, 5, 5, 5, 5, 5, 5, 5, 5])"
     },
     "execution_count": 24,
     "metadata": {},
     "output_type": "execute_result"
    }
   ],
   "source": [
    "m2[(cift & sifir) | bir]"
   ],
   "metadata": {
    "collapsed": false,
    "ExecuteTime": {
     "end_time": "2024-03-13T14:09:36.584528Z",
     "start_time": "2024-03-13T14:09:36.579281Z"
    }
   },
   "id": "9508730212d72cbd",
   "execution_count": 24
  }
 ],
 "metadata": {
  "kernelspec": {
   "display_name": "Python 3",
   "language": "python",
   "name": "python3"
  },
  "language_info": {
   "codemirror_mode": {
    "name": "ipython",
    "version": 2
   },
   "file_extension": ".py",
   "mimetype": "text/x-python",
   "name": "python",
   "nbconvert_exporter": "python",
   "pygments_lexer": "ipython2",
   "version": "2.7.6"
  }
 },
 "nbformat": 4,
 "nbformat_minor": 5
}
