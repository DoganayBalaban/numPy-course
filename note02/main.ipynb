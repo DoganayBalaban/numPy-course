{
 "cells": [
  {
   "cell_type": "code",
   "execution_count": 1,
   "id": "initial_id",
   "metadata": {
    "collapsed": true,
    "ExecuteTime": {
     "end_time": "2024-03-13T13:07:14.682938Z",
     "start_time": "2024-03-13T13:07:14.623249Z"
    }
   },
   "outputs": [],
   "source": [
    "import numpy as np"
   ]
  },
  {
   "cell_type": "markdown",
   "source": [
    "Size, Shape, Dtype, ndim"
   ],
   "metadata": {
    "collapsed": false
   },
   "id": "c84cd7118e3d3481"
  },
  {
   "cell_type": "code",
   "outputs": [],
   "source": [
    "vektor = np.array([1, 2, 3, 4, 5, 6])\n",
    "matris = np.array([[1, 2, 3], [4, 5, 6], [7, 8, 9]])"
   ],
   "metadata": {
    "collapsed": false,
    "ExecuteTime": {
     "end_time": "2024-03-13T13:08:49.253754Z",
     "start_time": "2024-03-13T13:08:49.249592Z"
    }
   },
   "id": "fd4f4ea8d2acb04b",
   "execution_count": 4
  },
  {
   "cell_type": "code",
   "outputs": [
    {
     "name": "stdout",
     "output_type": "stream",
     "text": [
      "[1 2 3 4 5 6]\n"
     ]
    }
   ],
   "source": [
    "print(vektor)"
   ],
   "metadata": {
    "collapsed": false,
    "ExecuteTime": {
     "end_time": "2024-03-13T13:08:50.670061Z",
     "start_time": "2024-03-13T13:08:50.665874Z"
    }
   },
   "id": "8a19399d11cf0e63",
   "execution_count": 5
  },
  {
   "cell_type": "code",
   "outputs": [
    {
     "name": "stdout",
     "output_type": "stream",
     "text": [
      "[[1 2 3]\n",
      " [4 5 6]\n",
      " [7 8 9]]\n"
     ]
    }
   ],
   "source": [
    "print(matris)"
   ],
   "metadata": {
    "collapsed": false,
    "ExecuteTime": {
     "end_time": "2024-03-13T13:09:04.004089Z",
     "start_time": "2024-03-13T13:09:04.000576Z"
    }
   },
   "id": "fee920e5039b4ce5",
   "execution_count": 6
  },
  {
   "cell_type": "markdown",
   "source": [
    "Size kaç elemandan oluştuğunu verir"
   ],
   "metadata": {
    "collapsed": false
   },
   "id": "12914fc6b66b878f"
  },
  {
   "cell_type": "code",
   "outputs": [
    {
     "data": {
      "text/plain": "6"
     },
     "execution_count": 8,
     "metadata": {},
     "output_type": "execute_result"
    }
   ],
   "source": [
    "vektor.size"
   ],
   "metadata": {
    "collapsed": false,
    "ExecuteTime": {
     "end_time": "2024-03-13T13:09:28.003678Z",
     "start_time": "2024-03-13T13:09:27.997158Z"
    }
   },
   "id": "df5b105b51e1ffcf",
   "execution_count": 8
  },
  {
   "cell_type": "code",
   "outputs": [
    {
     "data": {
      "text/plain": "9"
     },
     "execution_count": 9,
     "metadata": {},
     "output_type": "execute_result"
    }
   ],
   "source": [
    "matris.size"
   ],
   "metadata": {
    "collapsed": false,
    "ExecuteTime": {
     "end_time": "2024-03-13T13:09:29.650174Z",
     "start_time": "2024-03-13T13:09:29.645585Z"
    }
   },
   "id": "6a4689796227627f",
   "execution_count": 9
  },
  {
   "cell_type": "markdown",
   "source": [
    "Shape şeklini verir"
   ],
   "metadata": {
    "collapsed": false
   },
   "id": "a0dd4a3299498b32"
  },
  {
   "cell_type": "code",
   "outputs": [
    {
     "data": {
      "text/plain": "(6,)"
     },
     "execution_count": 10,
     "metadata": {},
     "output_type": "execute_result"
    }
   ],
   "source": [
    "vektor.shape"
   ],
   "metadata": {
    "collapsed": false,
    "ExecuteTime": {
     "end_time": "2024-03-13T13:10:02.552065Z",
     "start_time": "2024-03-13T13:10:02.546133Z"
    }
   },
   "id": "cee9e267b67b408b",
   "execution_count": 10
  },
  {
   "cell_type": "code",
   "outputs": [
    {
     "data": {
      "text/plain": "(3, 3)"
     },
     "execution_count": 11,
     "metadata": {},
     "output_type": "execute_result"
    }
   ],
   "source": [
    "matris.shape"
   ],
   "metadata": {
    "collapsed": false,
    "ExecuteTime": {
     "end_time": "2024-03-13T13:10:35.478956Z",
     "start_time": "2024-03-13T13:10:35.470373Z"
    }
   },
   "id": "3b5adf5064dc6666",
   "execution_count": 11
  },
  {
   "cell_type": "markdown",
   "source": [
    "ndim = uzayda kapladığı boyut"
   ],
   "metadata": {
    "collapsed": false
   },
   "id": "cfef3d5def25d7b7"
  },
  {
   "cell_type": "code",
   "outputs": [
    {
     "data": {
      "text/plain": "1"
     },
     "execution_count": 12,
     "metadata": {},
     "output_type": "execute_result"
    }
   ],
   "source": [
    "vektor.ndim"
   ],
   "metadata": {
    "collapsed": false,
    "ExecuteTime": {
     "end_time": "2024-03-13T13:11:17.362575Z",
     "start_time": "2024-03-13T13:11:17.357150Z"
    }
   },
   "id": "c124b4d19094262a",
   "execution_count": 12
  },
  {
   "cell_type": "code",
   "outputs": [
    {
     "data": {
      "text/plain": "2"
     },
     "execution_count": 13,
     "metadata": {},
     "output_type": "execute_result"
    }
   ],
   "source": [
    "matris.ndim"
   ],
   "metadata": {
    "collapsed": false,
    "ExecuteTime": {
     "end_time": "2024-03-13T13:11:26.125891Z",
     "start_time": "2024-03-13T13:11:26.121594Z"
    }
   },
   "id": "7c7c22eeb4386cca",
   "execution_count": 13
  },
  {
   "cell_type": "markdown",
   "source": [
    "dtype = veri tipi"
   ],
   "metadata": {
    "collapsed": false
   },
   "id": "fe1e765768773ea0"
  },
  {
   "cell_type": "code",
   "outputs": [
    {
     "data": {
      "text/plain": "dtype('int64')"
     },
     "execution_count": 14,
     "metadata": {},
     "output_type": "execute_result"
    }
   ],
   "source": [
    "vektor.dtype"
   ],
   "metadata": {
    "collapsed": false,
    "ExecuteTime": {
     "end_time": "2024-03-13T13:11:47.160603Z",
     "start_time": "2024-03-13T13:11:47.155875Z"
    }
   },
   "id": "fdd1ff0251f8f1ec",
   "execution_count": 14
  },
  {
   "cell_type": "code",
   "outputs": [
    {
     "data": {
      "text/plain": "dtype('int64')"
     },
     "execution_count": 15,
     "metadata": {},
     "output_type": "execute_result"
    }
   ],
   "source": [
    "matris.dtype"
   ],
   "metadata": {
    "collapsed": false,
    "ExecuteTime": {
     "end_time": "2024-03-13T13:12:17.711830Z",
     "start_time": "2024-03-13T13:12:17.703587Z"
    }
   },
   "id": "e811220b7c4b86d0",
   "execution_count": 15
  },
  {
   "cell_type": "markdown",
   "source": [
    "tipi"
   ],
   "metadata": {
    "collapsed": false
   },
   "id": "42b4fcda39df4998"
  },
  {
   "cell_type": "code",
   "outputs": [
    {
     "data": {
      "text/plain": "numpy.ndarray"
     },
     "execution_count": 16,
     "metadata": {},
     "output_type": "execute_result"
    }
   ],
   "source": [
    "type(vektor)"
   ],
   "metadata": {
    "collapsed": false,
    "ExecuteTime": {
     "end_time": "2024-03-13T13:12:53.845174Z",
     "start_time": "2024-03-13T13:12:53.838629Z"
    }
   },
   "id": "af0db152872cdfa8",
   "execution_count": 16
  },
  {
   "cell_type": "code",
   "outputs": [
    {
     "data": {
      "text/plain": "numpy.ndarray"
     },
     "execution_count": 17,
     "metadata": {},
     "output_type": "execute_result"
    }
   ],
   "source": [
    "type(matris)"
   ],
   "metadata": {
    "collapsed": false,
    "ExecuteTime": {
     "end_time": "2024-03-13T13:13:16.607733Z",
     "start_time": "2024-03-13T13:13:16.599532Z"
    }
   },
   "id": "d68b9da27d8589e6",
   "execution_count": 17
  },
  {
   "cell_type": "markdown",
   "source": [
    "Type Casting"
   ],
   "metadata": {
    "collapsed": false
   },
   "id": "4b0fbf3693b8d93"
  },
  {
   "cell_type": "code",
   "outputs": [
    {
     "name": "stdout",
     "output_type": "stream",
     "text": [
      "float64\n"
     ]
    }
   ],
   "source": [
    "sayilar = np.array([1,2,3,4,5.0,6])\n",
    "print(sayilar.dtype)"
   ],
   "metadata": {
    "collapsed": false,
    "ExecuteTime": {
     "end_time": "2024-03-13T13:15:12.854415Z",
     "start_time": "2024-03-13T13:15:12.850147Z"
    }
   },
   "id": "b5ffb9c57b6eb3eb",
   "execution_count": 19
  },
  {
   "cell_type": "code",
   "outputs": [
    {
     "name": "stdout",
     "output_type": "stream",
     "text": [
      "int64\n"
     ]
    }
   ],
   "source": [
    "sayilar = sayilar.astype(\"int64\")\n",
    "print(sayilar.dtype)"
   ],
   "metadata": {
    "collapsed": false,
    "ExecuteTime": {
     "end_time": "2024-03-13T13:15:58.805006Z",
     "start_time": "2024-03-13T13:15:58.797827Z"
    }
   },
   "id": "4c840b640542c123",
   "execution_count": 20
  },
  {
   "cell_type": "code",
   "outputs": [
    {
     "name": "stdout",
     "output_type": "stream",
     "text": [
      "[1 2 3 4 5 6] int8\n"
     ]
    }
   ],
   "source": [
    "sayilar = np.array([1,2,3,4,5,6], dtype=\"int8\")\n",
    "print(sayilar, sayilar.dtype)"
   ],
   "metadata": {
    "collapsed": false,
    "ExecuteTime": {
     "end_time": "2024-03-13T13:18:13.419078Z",
     "start_time": "2024-03-13T13:18:13.414915Z"
    }
   },
   "id": "2446dd733153bc85",
   "execution_count": 22
  },
  {
   "cell_type": "code",
   "outputs": [
    {
     "data": {
      "text/plain": "dtype('<U10')"
     },
     "execution_count": 23,
     "metadata": {},
     "output_type": "execute_result"
    }
   ],
   "source": [
    "tarih = np.array([\"2023-01-01\"])\n",
    "tarih.dtype"
   ],
   "metadata": {
    "collapsed": false,
    "ExecuteTime": {
     "end_time": "2024-03-13T13:20:10.717554Z",
     "start_time": "2024-03-13T13:20:10.709403Z"
    }
   },
   "id": "27ff12804a20e40e",
   "execution_count": 23
  },
  {
   "cell_type": "code",
   "outputs": [
    {
     "data": {
      "text/plain": "dtype('<M8[D]')"
     },
     "execution_count": 24,
     "metadata": {},
     "output_type": "execute_result"
    }
   ],
   "source": [
    "tarih = tarih.astype(\"datetime64\")\n",
    "tarih.dtype"
   ],
   "metadata": {
    "collapsed": false,
    "ExecuteTime": {
     "end_time": "2024-03-13T13:20:27.405025Z",
     "start_time": "2024-03-13T13:20:27.399335Z"
    }
   },
   "id": "11f259db6079a690",
   "execution_count": 24
  },
  {
   "cell_type": "markdown",
   "source": [
    "Matrislerde slice"
   ],
   "metadata": {
    "collapsed": false
   },
   "id": "583f833d2c681351"
  },
  {
   "cell_type": "code",
   "outputs": [
    {
     "name": "stdout",
     "output_type": "stream",
     "text": [
      "[[1 2 3]\n",
      " [4 5 6]\n",
      " [7 8 9]]\n"
     ]
    }
   ],
   "source": [
    "matris = np.array([[1, 2, 3], [4, 5, 6], [7,8,9]])\n",
    "print(matris)"
   ],
   "metadata": {
    "collapsed": false,
    "ExecuteTime": {
     "end_time": "2024-03-13T13:22:53.185345Z",
     "start_time": "2024-03-13T13:22:53.174456Z"
    }
   },
   "id": "1595cc9dcaa88647",
   "execution_count": 27
  },
  {
   "cell_type": "code",
   "outputs": [
    {
     "name": "stdout",
     "output_type": "stream",
     "text": [
      "[1 2 3]\n"
     ]
    }
   ],
   "source": [
    "print(matris[0])"
   ],
   "metadata": {
    "collapsed": false,
    "ExecuteTime": {
     "end_time": "2024-03-13T13:23:08.801444Z",
     "start_time": "2024-03-13T13:23:08.797685Z"
    }
   },
   "id": "5fce5c9c4baaf66c",
   "execution_count": 29
  },
  {
   "cell_type": "code",
   "outputs": [
    {
     "name": "stdout",
     "output_type": "stream",
     "text": [
      "[4 5 6]\n"
     ]
    }
   ],
   "source": [
    "print(matris[1])"
   ],
   "metadata": {
    "collapsed": false,
    "ExecuteTime": {
     "end_time": "2024-03-13T13:23:25.078402Z",
     "start_time": "2024-03-13T13:23:25.072551Z"
    }
   },
   "id": "f89ca0417ea375",
   "execution_count": 30
  },
  {
   "cell_type": "code",
   "outputs": [
    {
     "name": "stdout",
     "output_type": "stream",
     "text": [
      "[[4 5 6]\n",
      " [7 8 9]]\n"
     ]
    }
   ],
   "source": [
    "print(matris[1:3])"
   ],
   "metadata": {
    "collapsed": false,
    "ExecuteTime": {
     "end_time": "2024-03-13T13:23:48.077254Z",
     "start_time": "2024-03-13T13:23:48.072836Z"
    }
   },
   "id": "f92c55b801f42769",
   "execution_count": 32
  },
  {
   "cell_type": "code",
   "outputs": [
    {
     "name": "stdout",
     "output_type": "stream",
     "text": [
      "[1 4 7]\n"
     ]
    }
   ],
   "source": [
    "print(matris[:,0])"
   ],
   "metadata": {
    "collapsed": false,
    "ExecuteTime": {
     "end_time": "2024-03-13T13:24:44.060161Z",
     "start_time": "2024-03-13T13:24:44.055518Z"
    }
   },
   "id": "f079b191fe4659a4",
   "execution_count": 33
  },
  {
   "cell_type": "code",
   "outputs": [
    {
     "name": "stdout",
     "output_type": "stream",
     "text": [
      "[[2 3]\n",
      " [5 6]\n",
      " [8 9]]\n"
     ]
    }
   ],
   "source": [
    "print(matris[:,1:3])"
   ],
   "metadata": {
    "collapsed": false,
    "ExecuteTime": {
     "end_time": "2024-03-13T13:25:05.188703Z",
     "start_time": "2024-03-13T13:25:05.184991Z"
    }
   },
   "id": "4e28ffac47cc4f94",
   "execution_count": 34
  },
  {
   "cell_type": "code",
   "outputs": [
    {
     "name": "stdout",
     "output_type": "stream",
     "text": [
      "[[5]]\n"
     ]
    }
   ],
   "source": [
    "print(matris[1:2,1:2])"
   ],
   "metadata": {
    "collapsed": false,
    "ExecuteTime": {
     "end_time": "2024-03-13T13:26:19.532861Z",
     "start_time": "2024-03-13T13:26:19.525769Z"
    }
   },
   "id": "290a5135402daba1",
   "execution_count": 35
  },
  {
   "cell_type": "markdown",
   "source": [
    "Random matris oluşturma"
   ],
   "metadata": {
    "collapsed": false
   },
   "id": "f33bf300bd1f40ec"
  },
  {
   "cell_type": "code",
   "outputs": [
    {
     "data": {
      "text/plain": "array([[4, 1, 1, 4],\n       [1, 3, 1, 2],\n       [0, 4, 4, 0],\n       [3, 2, 0, 4]])"
     },
     "execution_count": 54,
     "metadata": {},
     "output_type": "execute_result"
    }
   ],
   "source": [
    "np.random.randint(0,5,(4,4))"
   ],
   "metadata": {
    "collapsed": false,
    "ExecuteTime": {
     "end_time": "2024-03-13T13:27:59.351816Z",
     "start_time": "2024-03-13T13:27:59.349217Z"
    }
   },
   "id": "acc0674e59cf7511",
   "execution_count": 54
  },
  {
   "cell_type": "code",
   "outputs": [
    {
     "data": {
      "text/plain": "array([[0.4, 0.2, 0.8, 0.9],\n       [0.4, 0.9, 0.5, 0.4],\n       [0.6, 0.4, 0.2, 0.2],\n       [0.7, 0.9, 0.9, 0.7]])"
     },
     "execution_count": 61,
     "metadata": {},
     "output_type": "execute_result"
    }
   ],
   "source": [
    "np.random.randint(0,10,(4,4))/10"
   ],
   "metadata": {
    "collapsed": false,
    "ExecuteTime": {
     "end_time": "2024-03-13T13:28:29.319637Z",
     "start_time": "2024-03-13T13:28:29.315544Z"
    }
   },
   "id": "25758518b50f6ac1",
   "execution_count": 61
  }
 ],
 "metadata": {
  "kernelspec": {
   "display_name": "Python 3",
   "language": "python",
   "name": "python3"
  },
  "language_info": {
   "codemirror_mode": {
    "name": "ipython",
    "version": 2
   },
   "file_extension": ".py",
   "mimetype": "text/x-python",
   "name": "python",
   "nbconvert_exporter": "python",
   "pygments_lexer": "ipython2",
   "version": "2.7.6"
  }
 },
 "nbformat": 4,
 "nbformat_minor": 5
}
