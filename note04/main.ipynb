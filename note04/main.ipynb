{
 "cells": [
  {
   "cell_type": "code",
   "execution_count": 1,
   "id": "initial_id",
   "metadata": {
    "collapsed": true,
    "ExecuteTime": {
     "end_time": "2024-03-13T13:41:48.024282Z",
     "start_time": "2024-03-13T13:41:47.951809Z"
    }
   },
   "outputs": [],
   "source": [
    "import numpy as np"
   ]
  },
  {
   "cell_type": "markdown",
   "source": [
    "copy() ve view() metotları"
   ],
   "metadata": {
    "collapsed": false
   },
   "id": "72e03397d5d5a83a"
  },
  {
   "cell_type": "code",
   "outputs": [
    {
     "data": {
      "text/plain": "array([[3, 0, 1, 4],\n       [3, 2, 2, 1],\n       [1, 4, 3, 4],\n       [1, 0, 0, 1]])"
     },
     "execution_count": 3,
     "metadata": {},
     "output_type": "execute_result"
    }
   ],
   "source": [
    "matris = np.random.randint(0,5,(4,4))\n",
    "matris"
   ],
   "metadata": {
    "collapsed": false,
    "ExecuteTime": {
     "end_time": "2024-03-13T13:42:38.197210Z",
     "start_time": "2024-03-13T13:42:38.189535Z"
    }
   },
   "id": "c65f3f56d6819cb",
   "execution_count": 3
  },
  {
   "cell_type": "code",
   "outputs": [],
   "source": [
    "matris2 = matris.view()"
   ],
   "metadata": {
    "collapsed": false,
    "ExecuteTime": {
     "end_time": "2024-03-13T13:43:16.592311Z",
     "start_time": "2024-03-13T13:43:16.588769Z"
    }
   },
   "id": "c62f11199019d97",
   "execution_count": 5
  },
  {
   "cell_type": "code",
   "outputs": [
    {
     "data": {
      "text/plain": "array([[9, 9, 9, 9],\n       [3, 2, 2, 1],\n       [1, 4, 3, 4],\n       [1, 0, 0, 1]])"
     },
     "execution_count": 9,
     "metadata": {},
     "output_type": "execute_result"
    }
   ],
   "source": [
    "matris2[0] = [9,9,9,9]\n",
    "matris2"
   ],
   "metadata": {
    "collapsed": false,
    "ExecuteTime": {
     "end_time": "2024-03-13T13:43:51.946003Z",
     "start_time": "2024-03-13T13:43:51.940682Z"
    }
   },
   "id": "29a87cc14b6783d6",
   "execution_count": 9
  },
  {
   "cell_type": "code",
   "outputs": [
    {
     "data": {
      "text/plain": "array([[9, 9, 9, 9],\n       [3, 2, 2, 1],\n       [1, 4, 3, 4],\n       [1, 0, 0, 1]])"
     },
     "execution_count": 10,
     "metadata": {},
     "output_type": "execute_result"
    }
   ],
   "source": [
    "matris"
   ],
   "metadata": {
    "collapsed": false,
    "ExecuteTime": {
     "end_time": "2024-03-13T13:44:00.622748Z",
     "start_time": "2024-03-13T13:44:00.617361Z"
    }
   },
   "id": "61e2e50d71bb258b",
   "execution_count": 10
  },
  {
   "cell_type": "code",
   "outputs": [],
   "source": [
    "matris3 = np.random.randint(0,5,(4,4))"
   ],
   "metadata": {
    "collapsed": false,
    "ExecuteTime": {
     "end_time": "2024-03-13T13:44:58.634046Z",
     "start_time": "2024-03-13T13:44:58.630459Z"
    }
   },
   "id": "53b2fe9a8ba8cea2",
   "execution_count": 11
  },
  {
   "cell_type": "code",
   "outputs": [
    {
     "data": {
      "text/plain": "array([[0, 1, 1, 0],\n       [1, 0, 1, 4],\n       [4, 3, 0, 0],\n       [2, 0, 4, 3]])"
     },
     "execution_count": 12,
     "metadata": {},
     "output_type": "execute_result"
    }
   ],
   "source": [
    "matris3"
   ],
   "metadata": {
    "collapsed": false,
    "ExecuteTime": {
     "end_time": "2024-03-13T13:45:03.051524Z",
     "start_time": "2024-03-13T13:45:03.045965Z"
    }
   },
   "id": "63f292c47be431e2",
   "execution_count": 12
  },
  {
   "cell_type": "code",
   "outputs": [
    {
     "data": {
      "text/plain": "array([[0, 1, 1, 0],\n       [1, 0, 1, 4],\n       [4, 3, 0, 0],\n       [2, 0, 4, 3]])"
     },
     "execution_count": 13,
     "metadata": {},
     "output_type": "execute_result"
    }
   ],
   "source": [
    "matris4 = matris3.copy()\n",
    "matris4"
   ],
   "metadata": {
    "collapsed": false,
    "ExecuteTime": {
     "end_time": "2024-03-13T13:45:40.828349Z",
     "start_time": "2024-03-13T13:45:40.823224Z"
    }
   },
   "id": "4cf9f395eb3a38f1",
   "execution_count": 13
  },
  {
   "cell_type": "code",
   "outputs": [
    {
     "data": {
      "text/plain": "array([[9, 9, 9, 9],\n       [1, 0, 1, 4],\n       [4, 3, 0, 0],\n       [2, 0, 4, 3]])"
     },
     "execution_count": 16,
     "metadata": {},
     "output_type": "execute_result"
    }
   ],
   "source": [
    "matris4[0] = [9,9,9,9]\n",
    "matris4"
   ],
   "metadata": {
    "collapsed": false,
    "ExecuteTime": {
     "end_time": "2024-03-13T13:46:13.704026Z",
     "start_time": "2024-03-13T13:46:13.698689Z"
    }
   },
   "id": "d371937df7b34362",
   "execution_count": 16
  },
  {
   "cell_type": "code",
   "outputs": [
    {
     "data": {
      "text/plain": "array([[0, 1, 1, 0],\n       [1, 0, 1, 4],\n       [4, 3, 0, 0],\n       [2, 0, 4, 3]])"
     },
     "execution_count": 17,
     "metadata": {},
     "output_type": "execute_result"
    }
   ],
   "source": [
    "matris3"
   ],
   "metadata": {
    "collapsed": false,
    "ExecuteTime": {
     "end_time": "2024-03-13T13:46:20.859423Z",
     "start_time": "2024-03-13T13:46:20.855523Z"
    }
   },
   "id": "f13d1e8409019d06",
   "execution_count": 17
  },
  {
   "cell_type": "markdown",
   "source": [
    "ones(), zeros(), full() matris oluşturma metotları"
   ],
   "metadata": {
    "collapsed": false
   },
   "id": "88aba77ac57560dc"
  },
  {
   "cell_type": "code",
   "outputs": [
    {
     "data": {
      "text/plain": "array([0., 0., 0., 0., 0.])"
     },
     "execution_count": 18,
     "metadata": {},
     "output_type": "execute_result"
    }
   ],
   "source": [
    "np.zeros(5)"
   ],
   "metadata": {
    "collapsed": false,
    "ExecuteTime": {
     "end_time": "2024-03-13T13:48:22.604075Z",
     "start_time": "2024-03-13T13:48:22.598687Z"
    }
   },
   "id": "619dd581f76ae712",
   "execution_count": 18
  },
  {
   "cell_type": "code",
   "outputs": [
    {
     "data": {
      "text/plain": "array([[0., 0., 0., 0.],\n       [0., 0., 0., 0.],\n       [0., 0., 0., 0.],\n       [0., 0., 0., 0.]])"
     },
     "execution_count": 19,
     "metadata": {},
     "output_type": "execute_result"
    }
   ],
   "source": [
    "np.zeros((4,4))"
   ],
   "metadata": {
    "collapsed": false,
    "ExecuteTime": {
     "end_time": "2024-03-13T13:48:42.607683Z",
     "start_time": "2024-03-13T13:48:42.602251Z"
    }
   },
   "id": "31d17b2109fa69e6",
   "execution_count": 19
  },
  {
   "cell_type": "code",
   "outputs": [
    {
     "data": {
      "text/plain": "array([[1., 1., 1., 1.],\n       [1., 1., 1., 1.],\n       [1., 1., 1., 1.],\n       [1., 1., 1., 1.]])"
     },
     "execution_count": 20,
     "metadata": {},
     "output_type": "execute_result"
    }
   ],
   "source": [
    "np.ones(shape=(4,4))"
   ],
   "metadata": {
    "collapsed": false,
    "ExecuteTime": {
     "end_time": "2024-03-13T13:49:18.984120Z",
     "start_time": "2024-03-13T13:49:18.976646Z"
    }
   },
   "id": "382757843858a563",
   "execution_count": 20
  },
  {
   "cell_type": "code",
   "outputs": [
    {
     "data": {
      "text/plain": "array([[19, 19, 19, 19],\n       [19, 19, 19, 19],\n       [19, 19, 19, 19],\n       [19, 19, 19, 19]])"
     },
     "execution_count": 21,
     "metadata": {},
     "output_type": "execute_result"
    }
   ],
   "source": [
    "np.full((4,4),19)"
   ],
   "metadata": {
    "collapsed": false,
    "ExecuteTime": {
     "end_time": "2024-03-13T13:50:42.403269Z",
     "start_time": "2024-03-13T13:50:42.394029Z"
    }
   },
   "id": "2e1d31603573de5a",
   "execution_count": 21
  },
  {
   "cell_type": "markdown",
   "source": [
    "eye(), diag(), identity() metotları"
   ],
   "metadata": {
    "collapsed": false
   },
   "id": "723aef1639b8536d"
  },
  {
   "cell_type": "code",
   "outputs": [
    {
     "data": {
      "text/plain": "array([[1., 0., 0., 0., 0.],\n       [0., 1., 0., 0., 0.],\n       [0., 0., 1., 0., 0.],\n       [0., 0., 0., 1., 0.],\n       [0., 0., 0., 0., 1.]])"
     },
     "execution_count": 22,
     "metadata": {},
     "output_type": "execute_result"
    }
   ],
   "source": [
    "np.identity(5)"
   ],
   "metadata": {
    "collapsed": false,
    "ExecuteTime": {
     "end_time": "2024-03-13T13:52:02.130571Z",
     "start_time": "2024-03-13T13:52:02.122195Z"
    }
   },
   "id": "30547a711b9f1199",
   "execution_count": 22
  },
  {
   "cell_type": "code",
   "outputs": [
    {
     "data": {
      "text/plain": "array([[0., 1., 0., 0., 0.],\n       [0., 0., 1., 0., 0.],\n       [0., 0., 0., 1., 0.],\n       [0., 0., 0., 0., 1.],\n       [0., 0., 0., 0., 0.]])"
     },
     "execution_count": 25,
     "metadata": {},
     "output_type": "execute_result"
    }
   ],
   "source": [
    "np.eye(5,k=1)"
   ],
   "metadata": {
    "collapsed": false,
    "ExecuteTime": {
     "end_time": "2024-03-13T13:52:54.735157Z",
     "start_time": "2024-03-13T13:52:54.730623Z"
    }
   },
   "id": "bdac31ef715857e3",
   "execution_count": 25
  },
  {
   "cell_type": "code",
   "outputs": [
    {
     "data": {
      "text/plain": "array([[1, 0, 0, 0],\n       [0, 1, 0, 0],\n       [0, 0, 1, 0],\n       [0, 0, 0, 1]])"
     },
     "execution_count": 26,
     "metadata": {},
     "output_type": "execute_result"
    }
   ],
   "source": [
    "np.diag([1,1,1,1])"
   ],
   "metadata": {
    "collapsed": false,
    "ExecuteTime": {
     "end_time": "2024-03-13T13:53:27.171474Z",
     "start_time": "2024-03-13T13:53:27.165857Z"
    }
   },
   "id": "2f0759b83cbc57f6",
   "execution_count": 26
  },
  {
   "cell_type": "code",
   "outputs": [
    {
     "data": {
      "text/plain": "array([[1, 0, 0, 0],\n       [0, 2, 0, 0],\n       [0, 0, 3, 0],\n       [0, 0, 0, 4]])"
     },
     "execution_count": 27,
     "metadata": {},
     "output_type": "execute_result"
    }
   ],
   "source": [
    "np.diag([1,2,3,4])"
   ],
   "metadata": {
    "collapsed": false,
    "ExecuteTime": {
     "end_time": "2024-03-13T13:53:44.217560Z",
     "start_time": "2024-03-13T13:53:44.214723Z"
    }
   },
   "id": "add23fb4a230f27d",
   "execution_count": 27
  }
 ],
 "metadata": {
  "kernelspec": {
   "display_name": "Python 3",
   "language": "python",
   "name": "python3"
  },
  "language_info": {
   "codemirror_mode": {
    "name": "ipython",
    "version": 2
   },
   "file_extension": ".py",
   "mimetype": "text/x-python",
   "name": "python",
   "nbconvert_exporter": "python",
   "pygments_lexer": "ipython2",
   "version": "2.7.6"
  }
 },
 "nbformat": 4,
 "nbformat_minor": 5
}
