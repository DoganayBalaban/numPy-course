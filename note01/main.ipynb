{
 "cells": [
  {
   "cell_type": "markdown",
   "source": [
    "The Basics"
   ],
   "metadata": {
    "collapsed": false
   },
   "id": "495cabc6095d33f1"
  },
  {
   "cell_type": "code",
   "outputs": [],
   "source": [
    "import numpy as np"
   ],
   "metadata": {
    "collapsed": false,
    "ExecuteTime": {
     "end_time": "2024-03-13T13:05:32.217163Z",
     "start_time": "2024-03-13T13:05:31.912774Z"
    }
   },
   "id": "3eca48aa0cab7c56",
   "execution_count": 1
  },
  {
   "cell_type": "code",
   "outputs": [
    {
     "name": "stdout",
     "output_type": "stream",
     "text": [
      "[1 2 3]\n"
     ]
    }
   ],
   "source": [
    "a = np.array([1,2,3])\n",
    "print(a)"
   ],
   "metadata": {
    "collapsed": false,
    "ExecuteTime": {
     "end_time": "2024-03-07T22:49:19.245926Z",
     "start_time": "2024-03-07T22:49:19.241999Z"
    }
   },
   "id": "17fc3e6b23aec3e",
   "execution_count": 3
  },
  {
   "cell_type": "code",
   "outputs": [
    {
     "name": "stdout",
     "output_type": "stream",
     "text": [
      "[[9. 8. 7.]\n",
      " [6. 5. 4.]]\n"
     ]
    }
   ],
   "source": [
    "b = np.array([[9.0,8.0,7.0],[6.0,5.0,4.0]])\n",
    "print(b)"
   ],
   "metadata": {
    "collapsed": false,
    "ExecuteTime": {
     "end_time": "2024-03-07T22:50:30.233574Z",
     "start_time": "2024-03-07T22:50:30.223417Z"
    }
   },
   "id": "c2e8f716df226fea",
   "execution_count": 4
  },
  {
   "cell_type": "code",
   "outputs": [
    {
     "data": {
      "text/plain": "1"
     },
     "execution_count": 5,
     "metadata": {},
     "output_type": "execute_result"
    }
   ],
   "source": [
    "#get dimension\n",
    "a.ndim"
   ],
   "metadata": {
    "collapsed": false,
    "ExecuteTime": {
     "end_time": "2024-03-07T22:51:11.003279Z",
     "start_time": "2024-03-07T22:51:10.992377Z"
    }
   },
   "id": "1ddd6a23c3538dc",
   "execution_count": 5
  },
  {
   "cell_type": "code",
   "outputs": [
    {
     "data": {
      "text/plain": "(3,)"
     },
     "execution_count": 6,
     "metadata": {},
     "output_type": "execute_result"
    }
   ],
   "source": [
    "#get shape\n",
    "a.shape"
   ],
   "metadata": {
    "collapsed": false,
    "ExecuteTime": {
     "end_time": "2024-03-07T22:51:31.581530Z",
     "start_time": "2024-03-07T22:51:31.574580Z"
    }
   },
   "id": "52d798c771e18dfe",
   "execution_count": 6
  },
  {
   "cell_type": "markdown",
   "source": [
    "Numpy ile Nokta, Doğru, Düzlem ve Uzay"
   ],
   "metadata": {
    "collapsed": false
   },
   "id": "d055c41f3afbd927"
  },
  {
   "cell_type": "code",
   "outputs": [
    {
     "name": "stdout",
     "output_type": "stream",
     "text": [
      "90\n"
     ]
    }
   ],
   "source": [
    "skaler = np.array(90)\n",
    "print(skaler)"
   ],
   "metadata": {
    "collapsed": false,
    "ExecuteTime": {
     "end_time": "2024-03-10T11:03:46.050393Z",
     "start_time": "2024-03-10T11:03:46.046825Z"
    }
   },
   "id": "76f5609148b14112",
   "execution_count": 3
  },
  {
   "cell_type": "code",
   "outputs": [
    {
     "name": "stdout",
     "output_type": "stream",
     "text": [
      "[1 2 3 4 5]\n"
     ]
    }
   ],
   "source": [
    "vectorel = np.array([1,2,3,4,5])\n",
    "print(vectorel)"
   ],
   "metadata": {
    "collapsed": false,
    "ExecuteTime": {
     "end_time": "2024-03-10T11:04:07.466094Z",
     "start_time": "2024-03-10T11:04:07.462531Z"
    }
   },
   "id": "fe3bdf0c7f2989d2",
   "execution_count": 5
  },
  {
   "cell_type": "code",
   "outputs": [
    {
     "name": "stdout",
     "output_type": "stream",
     "text": [
      "[[1 2 3]\n",
      " [4 5 6]\n",
      " [7 8 9]]\n"
     ]
    }
   ],
   "source": [
    "matrices = np.array([[1,2,3],[4,5,6],[7,8,9]])\n",
    "print(matrices)"
   ],
   "metadata": {
    "collapsed": false,
    "ExecuteTime": {
     "end_time": "2024-03-10T11:04:16.834048Z",
     "start_time": "2024-03-10T11:04:16.828920Z"
    }
   },
   "id": "25054d3c485755cc",
   "execution_count": 6
  },
  {
   "cell_type": "code",
   "outputs": [
    {
     "name": "stdout",
     "output_type": "stream",
     "text": [
      "[[[1 2 3]\n",
      "  [4 5 6]]\n",
      "\n",
      " [[1 2 3]\n",
      "  [4 5 6]]\n",
      "\n",
      " [[1 2 3]\n",
      "  [4 5 6]]]\n"
     ]
    }
   ],
   "source": [
    "tensor = np.array([[[1,2,3],[4,5,6]],[[1,2,3],[4,5,6]],[[1,2,3],[4,5,6]]])\n",
    "print(tensor)"
   ],
   "metadata": {
    "collapsed": false,
    "ExecuteTime": {
     "end_time": "2024-03-10T11:04:27.863381Z",
     "start_time": "2024-03-10T11:04:27.858856Z"
    }
   },
   "id": "f956184c79b2d186",
   "execution_count": 7
  },
  {
   "cell_type": "markdown",
   "source": [
    "Neden NumPy"
   ],
   "metadata": {
    "collapsed": false
   },
   "id": "40e25ec6ebef486f"
  },
  {
   "cell_type": "code",
   "outputs": [
    {
     "name": "stdout",
     "output_type": "stream",
     "text": [
      "1.5313920974731445\n"
     ]
    }
   ],
   "source": [
    "import time\n",
    "liste = []\n",
    "z1 = time.time()\n",
    "for a in range(1_000_000):\n",
    "    kuvvet = a**100\n",
    "    liste.append(kuvvet)\n",
    "z2 = time.time()\n",
    "print(z2-z1)\n"
   ],
   "metadata": {
    "collapsed": false,
    "ExecuteTime": {
     "end_time": "2024-03-10T11:09:30.734135Z",
     "start_time": "2024-03-10T11:09:29.112140Z"
    }
   },
   "id": "f698022e8b326822",
   "execution_count": 10
  },
  {
   "cell_type": "code",
   "outputs": [
    {
     "name": "stdout",
     "output_type": "stream",
     "text": [
      "0.011622905731201172\n"
     ]
    }
   ],
   "source": [
    "z3= time.time()\n",
    "liste2 = np.arange(1_000_000)**100\n",
    "z4 = time.time()\n",
    "print(z4 - z3)"
   ],
   "metadata": {
    "collapsed": false,
    "ExecuteTime": {
     "end_time": "2024-03-10T11:11:28.393229Z",
     "start_time": "2024-03-10T11:11:28.375594Z"
    }
   },
   "id": "8b817d90cb9658ae",
   "execution_count": 11
  },
  {
   "cell_type": "markdown",
   "source": [
    "Index ve Slice"
   ],
   "metadata": {
    "collapsed": false
   },
   "id": "95bf9f6c64559253"
  },
  {
   "cell_type": "code",
   "outputs": [
    {
     "name": "stdout",
     "output_type": "stream",
     "text": [
      "5 0 15 [2 4] [4 6]\n"
     ]
    }
   ],
   "source": [
    "vektor = np.array([0,2,4,5,6,7,8,15])\n",
    "a = vektor[3]\n",
    "b = vektor[0]\n",
    "c = vektor[-1]\n",
    "d = vektor[1:3]\n",
    "e = vektor[2:6:2]\n",
    "print(a,b,c,d,e)"
   ],
   "metadata": {
    "collapsed": false,
    "ExecuteTime": {
     "end_time": "2024-03-10T11:17:07.370484Z",
     "start_time": "2024-03-10T11:17:07.362857Z"
    }
   },
   "id": "966acd4299e8fc91",
   "execution_count": 16
  }
 ],
 "metadata": {
  "kernelspec": {
   "display_name": "Python 3",
   "language": "python",
   "name": "python3"
  },
  "language_info": {
   "codemirror_mode": {
    "name": "ipython",
    "version": 2
   },
   "file_extension": ".py",
   "mimetype": "text/x-python",
   "name": "python",
   "nbconvert_exporter": "python",
   "pygments_lexer": "ipython2",
   "version": "2.7.6"
  }
 },
 "nbformat": 4,
 "nbformat_minor": 5
}
